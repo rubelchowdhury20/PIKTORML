{
  "nbformat": 4,
  "nbformat_minor": 0,
  "metadata": {
    "colab": {
      "name": "Assignment_1c",
      "provenance": [],
      "collapsed_sections": []
    },
    "kernelspec": {
      "name": "python3",
      "display_name": "Python 3"
    }
  },
  "cells": [
    {
      "cell_type": "markdown",
      "metadata": {
        "id": "gH3zDIAgeAS9",
        "colab_type": "text"
      },
      "source": [
        "#PIKTORML Python Assignment"
      ]
    },
    {
      "cell_type": "markdown",
      "metadata": {
        "id": "N71_PkbS0JJp",
        "colab_type": "text"
      },
      "source": [
        "**DISCLAIMER : Plagiarism is strictly prohibited. This is a best practise for your good. If copied then you are fooling yourself**"
      ]
    },
    {
      "cell_type": "markdown",
      "metadata": {
        "id": "lgTz-TE0eATB",
        "colab_type": "text"
      },
      "source": [
        "##Introduction"
      ]
    },
    {
      "cell_type": "markdown",
      "metadata": {
        "id": "TDuX0ZzSeATD",
        "colab_type": "text"
      },
      "source": [
        "You will be given a question and the code for it should be added with a code block cell added just below it with comments which explain the code\n",
        "\n",
        "For example"
      ]
    },
    {
      "cell_type": "markdown",
      "metadata": {
        "colab_type": "text",
        "id": "hbk_yMP2sxxE"
      },
      "source": [
        "***\n",
        "Example Question:\n",
        "\n",
        "Write a program :\n",
        "\n",
        "A function which implements quicksort on an array input to it and returns a sorted array\n",
        "***"
      ]
    },
    {
      "cell_type": "code",
      "metadata": {
        "id": "T0yJjSQ7eATI",
        "colab_type": "code",
        "colab": {}
      },
      "source": [
        "def quicksort(arr):\n",
        "    if len(arr) <= 1:\n",
        "        return arr\n",
        "    pivot = arr[len(arr) // 2]\n",
        "    left = [x for x in arr if x < pivot]\n",
        "    middle = [x for x in arr if x == pivot]\n",
        "    right = [x for x in arr if x > pivot]\n",
        "    return quicksort(left) + middle + quicksort(right)\n",
        "\n",
        "print quicksort([3,6,8,10,1,2,1])"
      ],
      "execution_count": 0,
      "outputs": []
    },
    {
      "cell_type": "markdown",
      "metadata": {
        "colab_type": "text",
        "id": "9KXbiF5uv5-J"
      },
      "source": [
        "**Question 1: (30 points)(20 for code 10 for comments)**\n",
        "\n",
        "Write a function which does a mtrix multiplication on two arrays input to it\n",
        "\n",
        "Hint : Use nested loops, AB is not always equal to BA in matrices"
      ]
    },
    {
      "cell_type": "code",
      "metadata": {
        "id": "ByxtOOv_wXFv",
        "colab_type": "code",
        "colab": {}
      },
      "source": [
        "#Your code goes here"
      ],
      "execution_count": 0,
      "outputs": []
    },
    {
      "cell_type": "markdown",
      "metadata": {
        "colab_type": "text",
        "id": "zBS6X0woubBL"
      },
      "source": [
        "**Question 2: (40 points)(30 for code 10 for comments)**\n",
        "\n",
        "Define a class named Circle which can be constructed by a radius. The Circle class has a method which can compute the area. \n",
        "\n",
        "Print the area of a circle object defined by the class you created with radius 3"
      ]
    },
    {
      "cell_type": "code",
      "metadata": {
        "id": "0KbxZPIkvkYg",
        "colab_type": "code",
        "colab": {}
      },
      "source": [
        "#your code goes here"
      ],
      "execution_count": 0,
      "outputs": []
    },
    {
      "cell_type": "markdown",
      "metadata": {
        "id": "X9tb1AmleATE",
        "colab_type": "text"
      },
      "source": [
        "**Question 3: (60 points)(50 for code 10 for comments)**\n",
        "\n",
        "Write a program to compute:\n",
        "\n",
        "f(n)=f(n-1)+100 when n>0\n",
        "and f(0)=1\n",
        "\n",
        "with a given n input (n>0).\n",
        "\n",
        "Example:\n",
        "If the following n is given as input to the program:\n",
        "\n",
        "5\n",
        "\n",
        "Then, the output of the program should be:\n",
        "\n",
        "500\n",
        "\n",
        "In case of input data being supplied to the question, it should be assumed to be a console input.\n",
        "\n",
        "Hints:\n",
        "We can define recursive function in Python."
      ]
    },
    {
      "cell_type": "code",
      "metadata": {
        "id": "VY2_xPQytX39",
        "colab_type": "code",
        "colab": {}
      },
      "source": [
        "# your code here"
      ],
      "execution_count": 0,
      "outputs": []
    },
    {
      "cell_type": "markdown",
      "metadata": {
        "id": "xh3EWcA0wlpa",
        "colab_type": "text"
      },
      "source": [
        "**Question 4**: (**120 points)(60 for code 60 for comments)**\n",
        "\n",
        "***This is a bonus question to prove your mettle to the world***\n",
        "\n",
        "***Even if you are not able to solve this it won't be graded but if you are able to solve it you get bonus points***\n",
        "\n",
        "It is possible to write ten as the sum of primes in exactly five different ways:\n",
        "\n",
        "* 7 + 3\n",
        "* 5 + 5\n",
        "* 5 + 3 + 2\n",
        "* 3 + 3 + 2 + 2\n",
        "* 2 + 2 + 2 + 2 + 2\n",
        "\n",
        "What is the **first value** which can be written as the sum of primes in **over** five thousand different ways?\n",
        "\n",
        "Write a program(a function) to solve the above problem to a generic input value and returns the first value which can be written in >= the input value times \n",
        "\n",
        "Print the value for input = 5000"
      ]
    },
    {
      "cell_type": "code",
      "metadata": {
        "id": "8Rxz8cn80iCr",
        "colab_type": "code",
        "colab": {}
      },
      "source": [
        "#your code here"
      ],
      "execution_count": 0,
      "outputs": []
    },
    {
      "cell_type": "markdown",
      "metadata": {
        "id": "ykFOcAHJ0kS-",
        "colab_type": "text"
      },
      "source": [
        "**END OF ASSIGNMENT**"
      ]
    }
  ]
}